{
 "cells": [
  {
   "cell_type": "code",
   "execution_count": 20,
   "metadata": {},
   "outputs": [
    {
     "name": "stdout",
     "output_type": "stream",
     "text": [
      "8\n"
     ]
    }
   ],
   "source": [
    "class square:\n",
    "    side = 1.0\n",
    "        \n",
    "    def __init__(self,side):\n",
    "        self.side = side\n",
    "    \n",
    "    def getPerimeter(self):\n",
    "        if (self.side == 0):\n",
    "            return self.side == 1.0\n",
    "        elif (self.side <= 0):\n",
    "            return 0\n",
    "        else:\n",
    "            return (self.side+self.side+self.side+self.side)\n",
    "    \n",
    "\n",
    "a = square(2)\n",
    "print(a.getPerimeter())\n",
    "        "
   ]
  },
  {
   "cell_type": "code",
   "execution_count": null,
   "metadata": {},
   "outputs": [],
   "source": []
  }
 ],
 "metadata": {
  "kernelspec": {
   "display_name": "Python 3",
   "language": "python",
   "name": "python3"
  },
  "language_info": {
   "codemirror_mode": {
    "name": "ipython",
    "version": 3
   },
   "file_extension": ".py",
   "mimetype": "text/x-python",
   "name": "python",
   "nbconvert_exporter": "python",
   "pygments_lexer": "ipython3",
   "version": "3.8.5"
  }
 },
 "nbformat": 4,
 "nbformat_minor": 4
}
